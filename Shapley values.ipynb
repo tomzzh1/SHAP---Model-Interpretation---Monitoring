{
 "cells": [
  {
   "cell_type": "markdown",
   "metadata": {},
   "source": [
    "## Shapley Value \n",
    "\n",
    "* Local additivity - The sum of the local feature attributions equal to the difference between the base rate and model ouput.\n",
    "    + The sum of all variables' marginal contribution is output of the function. (Split the bill based on the dishes you ordered)\n",
    "    \n",
    "* Consistency - If you change the original model such that a feature has a larger impact in every possible ordering, then that input's attribution should not decrease. \n",
    "\n",
    "    + If a feature gets more important, on the observational level, the marginal contribution of that variable is at least or larger than before. (The opposite of the simpson's paradox)"
   ]
  },
  {
   "cell_type": "markdown",
   "metadata": {},
   "source": [
    "$f(c) =\\begin{cases}\n",
    "    6,&\\text{if }C=\\{1\\}\\\\\n",
    "    12,&\\text{if }C=\\{2\\}\\\\\n",
    "    42,&\\text{if }C=\\{3\\}\\\\\n",
    "    12,&\\text{if }C=\\{1,2\\}\\\\\n",
    "    42,&\\text{if }C=\\{1,3\\}\\\\\n",
    "    42,&\\text{if }C=\\{2,3\\}\\\\\n",
    "    42,&\\text{if }C=\\{1,2,3\\}\\\\\n",
    "    \\end{cases}$"
   ]
  },
  {
   "cell_type": "markdown",
   "metadata": {},
   "source": [
    "$f'(c)=\\begin{cases}\n",
    "6,&\\text{if }C=\\{1\\}\\\\\n",
    "12,&\\text{if }C=\\{2\\}\\\\\n",
    "42,&\\text{if }C=\\{3\\}\\\\\n",
    "10,&\\text{if }C=\\{1,2\\}\\\\\n",
    "42,&\\text{if }C=\\{1,3\\}\\\\\n",
    "42,&\\text{if }C=\\{2,3\\}\\\\\n",
    "42,&\\text{if }C=\\{1,2,3\\}\\\\\n",
    "\\end{cases} $"
   ]
  },
  {
   "cell_type": "markdown",
   "metadata": {},
   "source": [
    "The $f(c)$  is consistent. The ${C}_{1}$'s pay is 6, and the ${C}_{2}$'s pay is 12. The ${C}_{(1,2)}$ is 12. It is consistent. \n",
    "\n",
    "The $f'(c)$ is not consistent. The ${C}_{1}$'s pay is 6, and the ${C}_{2}$'s pay is 12. The ${C}_{(1,2)}$ is 10. It is consistent. \n"
   ]
  },
  {
   "cell_type": "code",
   "execution_count": null,
   "metadata": {},
   "outputs": [],
   "source": []
  }
 ],
 "metadata": {
  "kernelspec": {
   "display_name": "Python 3",
   "language": "python",
   "name": "python3"
  },
  "language_info": {
   "codemirror_mode": {
    "name": "ipython",
    "version": 3
   },
   "file_extension": ".py",
   "mimetype": "text/x-python",
   "name": "python",
   "nbconvert_exporter": "python",
   "pygments_lexer": "ipython3",
   "version": "3.7.9"
  },
  "toc": {
   "base_numbering": 1,
   "nav_menu": {},
   "number_sections": true,
   "sideBar": true,
   "skip_h1_title": false,
   "title_cell": "Table of Contents",
   "title_sidebar": "Contents",
   "toc_cell": false,
   "toc_position": {},
   "toc_section_display": true,
   "toc_window_display": false
  }
 },
 "nbformat": 4,
 "nbformat_minor": 4
}
